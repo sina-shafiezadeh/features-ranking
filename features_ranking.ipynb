{
  "cells": [
    {
      "cell_type": "markdown",
      "id": "737da85d-a8de-4fa4-aff5-5a1534830aae",
      "metadata": {
        "id": "737da85d-a8de-4fa4-aff5-5a1534830aae"
      },
      "source": [
        "# import packages"
      ]
    },
    {
      "cell_type": "code",
      "execution_count": null,
      "id": "1eaa99d0-6c69-4ac6-b58a-19c543eeb61e",
      "metadata": {
        "scrolled": true,
        "id": "1eaa99d0-6c69-4ac6-b58a-19c543eeb61e"
      },
      "outputs": [],
      "source": [
        "import pandas as pd\n",
        "import numpy as np\n",
        "from sklearn.model_selection import train_test_split, cross_validate, StratifiedKFold, cross_val_predict, KFold\n",
        "from sklearn.preprocessing import OneHotEncoder\n",
        "from sklearn.metrics import roc_curve, auc, accuracy_score, recall_score, precision_score, roc_auc_score, confusion_matrix\n",
        "import matplotlib.pyplot as plt\n",
        "\n",
        "from sklearn.ensemble import RandomForestClassifier\n",
        "from sklearn.neighbors import KNeighborsClassifier\n",
        "from sklearn.svm import SVC\n",
        "from sklearn.naive_bayes import GaussianNB\n",
        "from xgboost import XGBClassifier\n",
        "from sklearn.tree import DecisionTreeClassifier"
      ]
    },
    {
      "cell_type": "markdown",
      "id": "3e60b32a-ca39-4ba5-86be-7c4bb3d5a4b5",
      "metadata": {
        "id": "3e60b32a-ca39-4ba5-86be-7c4bb3d5a4b5"
      },
      "source": [
        "# read data"
      ]
    },
    {
      "cell_type": "code",
      "source": [
        "from google.colab import drive\n",
        "drive.mount('/content/drive')\n",
        "\n",
        "df = pd.read_csv('/content/drive/MyDrive/sample_data.csv', sep=',', low_memory=False)\n",
        "df.shape"
      ],
      "metadata": {
        "id": "SsadphHP20TU"
      },
      "id": "SsadphHP20TU",
      "execution_count": null,
      "outputs": []
    },
    {
      "cell_type": "markdown",
      "id": "9676d621-c14f-4d90-b1aa-32b9dff339fe",
      "metadata": {
        "id": "9676d621-c14f-4d90-b1aa-32b9dff339fe"
      },
      "source": [
        "# preprocess the data"
      ]
    },
    {
      "cell_type": "code",
      "execution_count": null,
      "id": "5a933689-7495-4b50-907e-90e21414f005",
      "metadata": {
        "id": "5a933689-7495-4b50-907e-90e21414f005"
      },
      "outputs": [],
      "source": [
        "# encoding categorical features\n",
        "X = df.drop(columns=['label'])\n",
        "y = df['label']\n",
        "one_hot_encoder = OneHotEncoder(sparse=False)\n",
        "X_encoded = one_hot_encoder.fit_transform(X)\n",
        "X = pd.DataFrame(X_encoded, columns=one_hot_encoder.get_feature_names_out(X.columns))\n",
        "\n",
        "X_train, X_test, y_train, y_test = train_test_split(X, y, test_size=0.20, random_state=42)"
      ]
    },
    {
      "cell_type": "markdown",
      "id": "ec519272-4614-4d54-b646-6e2d383a5e95",
      "metadata": {
        "id": "ec519272-4614-4d54-b646-6e2d383a5e95"
      },
      "source": [
        "# initialize the models"
      ]
    },
    {
      "cell_type": "code",
      "execution_count": null,
      "id": "d2079b01-6faa-4c25-b5b1-d0f47e329532",
      "metadata": {
        "id": "d2079b01-6faa-4c25-b5b1-d0f47e329532"
      },
      "outputs": [],
      "source": [
        "classifiers = {\n",
        "    \"XGBoost\": XGBClassifier(),\n",
        "    \"Decision Tree\": DecisionTreeClassifier(criterion = 'entropy', random_state = 0),\n",
        "    \"Random Forest\": RandomForestClassifier(n_estimators = 10, criterion = 'entropy', random_state = 0),\n",
        "    \"K-Nearest Neighbors\": KNeighborsClassifier(n_neighbors = 5, metric = 'minkowski', p = 2),\n",
        "    \"Support Vector Machine\": SVC(kernel = 'linear', random_state = 0, probability=True),\n",
        "    \"Kernel SVM\": SVC(kernel = 'rbf', random_state = 0, probability=True),\n",
        "    \"Naive Bayes\": GaussianNB()\n",
        "}"
      ]
    },
    {
      "cell_type": "markdown",
      "id": "6a241c02-9fb5-4b47-b090-c52ebdc83e83",
      "metadata": {
        "id": "6a241c02-9fb5-4b47-b090-c52ebdc83e83"
      },
      "source": [
        "# train models"
      ]
    },
    {
      "cell_type": "code",
      "execution_count": null,
      "id": "fa8e3446-a315-4c6c-8d7c-04e8d1be43a4",
      "metadata": {
        "id": "fa8e3446-a315-4c6c-8d7c-04e8d1be43a4"
      },
      "outputs": [],
      "source": [
        "plt.figure(figsize=(8, 6))\n",
        "\n",
        "mean_fpr = np.linspace(0, 1, 100)\n",
        "tprs = []\n",
        "aucs = []\n",
        "\n",
        "cv = KFold(n_splits=5, shuffle=True, random_state=42)\n",
        "\n",
        "for name, clf in classifiers.items():\n",
        "    tprs_fold = []\n",
        "    aucs_fold = []\n",
        "    for train_idx, test_idx in cv.split(X_train, y_train):\n",
        "        X_train_cv, X_test_cv = X_train.iloc[train_idx], X_train.iloc[test_idx]\n",
        "        y_train_cv, y_test_cv = y_train.iloc[train_idx], y_train.iloc[test_idx]\n",
        "\n",
        "        clf.fit(X_train_cv, y_train_cv)\n",
        "\n",
        "        y_score = clf.predict_proba(X_test_cv)[:, 1]\n",
        "\n",
        "        fpr, tpr, _ = roc_curve(y_test_cv, y_score)\n",
        "        roc_auc = auc(fpr, tpr)\n",
        "\n",
        "        tprs_fold.append(np.interp(mean_fpr, fpr, tpr))\n",
        "        aucs_fold.append(roc_auc)\n",
        "\n",
        "    mean_tpr = np.mean(tprs_fold, axis=0)\n",
        "    mean_auc = np.mean(aucs_fold)\n",
        "    std_auc = np.std(aucs_fold)\n",
        "\n",
        "    plt.plot(mean_fpr, mean_tpr, label=f'{name} (AUC = {mean_auc:.2f} $\\pm$ {std_auc:.2f})')\n",
        "\n",
        "    tprs.append(mean_tpr)\n",
        "    aucs.append(mean_auc)\n",
        "\n",
        "plt.plot([0, 1], [0, 1], linestyle='--', color='gray', label='Random Guess')\n",
        "\n",
        "plt.xlabel('False Positive Rate')\n",
        "plt.ylabel('True Positive Rate')\n",
        "plt.title('ROC Curves for Different Classifiers (5-fold CV)')\n",
        "plt.legend(loc='lower right')\n",
        "plt.show()\n",
        "\n",
        "tprs_df = pd.DataFrame(tprs).transpose()\n",
        "aucs_df = pd.DataFrame(aucs).transpose()"
      ]
    },
    {
      "cell_type": "markdown",
      "id": "28bd2474-4cc5-4866-8179-04bd8abafda1",
      "metadata": {
        "id": "28bd2474-4cc5-4866-8179-04bd8abafda1"
      },
      "source": [
        "# tuning the best model (XGBoost) with Optuna"
      ]
    },
    {
      "cell_type": "code",
      "source": [
        "!pip install optuna\n",
        "!pip install optuna-integration"
      ],
      "metadata": {
        "id": "NXC16fFR5W5S"
      },
      "id": "NXC16fFR5W5S",
      "execution_count": null,
      "outputs": []
    },
    {
      "cell_type": "code",
      "execution_count": null,
      "id": "84fdfdbf-78a7-46e8-b041-145ab65f190a",
      "metadata": {
        "id": "84fdfdbf-78a7-46e8-b041-145ab65f190a"
      },
      "outputs": [],
      "source": [
        "import optuna\n",
        "import optuna.integration\n",
        "import xgboost as xgb\n",
        "\n",
        "X_train_encoded, X_test_encoded, y_train, y_test = train_test_split(X, y, test_size=0.2, random_state=42)\n",
        "\n",
        "def objective(trial):\n",
        "    dtrain = xgb.DMatrix(X_train_encoded, label=y_train)\n",
        "\n",
        "    params = {\n",
        "        'objective': 'binary:logistic',\n",
        "        'eval_metric': 'auc',\n",
        "        'booster': 'gbtree',\n",
        "        'n_estimators': trial.suggest_int('n_estimators', 100, 1000, step=100),\n",
        "        'max_depth': trial.suggest_int('max_depth', 3, 10),\n",
        "        'learning_rate': trial.suggest_loguniform('learning_rate', 0.01, 0.3),\n",
        "        'subsample': trial.suggest_float('subsample', 0.5, 1.0),\n",
        "        'colsample_bytree': trial.suggest_float('colsample_bytree', 0.5, 1.0),\n",
        "        'min_child_weight': trial.suggest_int('min_child_weight', 1, 10),\n",
        "        'reg_alpha': trial.suggest_loguniform('reg_alpha', 1e-5, 10.0),\n",
        "        'reg_lambda': trial.suggest_loguniform('reg_lambda', 1e-5, 10.0),\n",
        "        'random_state': 42\n",
        "    }\n",
        "\n",
        "    model = xgb.XGBClassifier(**params)\n",
        "\n",
        "    kf = StratifiedKFold(n_splits=5, shuffle=True, random_state=42)\n",
        "\n",
        "    pruning_callback = optuna.integration.XGBoostPruningCallback(trial, \"test-auc\")\n",
        "    history = xgb.cv(params, dtrain, num_boost_round=100, callbacks=[pruning_callback])\n",
        "\n",
        "    mean_mean_accuracyauc = history[\"test-auc-mean\"].values[-1]\n",
        "\n",
        "    return mean_mean_accuracyauc\n",
        "\n",
        "\n",
        "study = optuna.create_study(direction='maximize')\n",
        "study.optimize(objective, n_trials=100)\n",
        "best_params = study.best_params\n",
        "print(\"\\n \\n Best Parameters:\", best_params)"
      ]
    },
    {
      "cell_type": "markdown",
      "id": "d3c8323a-3004-4908-a376-4646caa66609",
      "metadata": {
        "id": "d3c8323a-3004-4908-a376-4646caa66609"
      },
      "source": [
        "# train XGBoost model with best parameters"
      ]
    },
    {
      "cell_type": "code",
      "execution_count": null,
      "id": "1f2fd455-f075-4bec-ad78-2c8a052a704e",
      "metadata": {
        "id": "1f2fd455-f075-4bec-ad78-2c8a052a704e"
      },
      "outputs": [],
      "source": [
        "model = xgb.XGBClassifier(**best_params)\n",
        "model.fit(X, y)\n",
        "\n",
        "y_pred = model.predict(X_test_encoded)\n",
        "accuracy = accuracy_score(y_test, y_pred)\n",
        "precision = precision_score(y_test, y_pred)\n",
        "recall = recall_score(y_test, y_pred)\n",
        "roc_auc = roc_auc_score(y_test, y_pred)\n",
        "conf_matrix = confusion_matrix(y_test, y_pred)\n",
        "\n",
        "print(\"Test Set Metrics:\")\n",
        "print(f\"Accuracy: {accuracy:.4f}\")\n",
        "print(f\"Precision: {precision:.4f}\")\n",
        "print(f\"Recall (Sensitivity): {recall:.4f}\")\n",
        "print(f\"Specificity: {(conf_matrix[0, 0] / (conf_matrix[0, 0] + conf_matrix[0, 1])):.4f}\")\n",
        "print(f\"AUC: {roc_auc:.4f}\")\n",
        "print(\"Confusion matrix: \", conf_matrix)"
      ]
    },
    {
      "cell_type": "markdown",
      "id": "04f8bc92-cca7-454e-903f-7ca6d7028685",
      "metadata": {
        "id": "04f8bc92-cca7-454e-903f-7ca6d7028685"
      },
      "source": [
        "# features ranking and features interactions"
      ]
    },
    {
      "cell_type": "code",
      "source": [
        "!pip install shap"
      ],
      "metadata": {
        "id": "fq5V2AalGUxU"
      },
      "id": "fq5V2AalGUxU",
      "execution_count": null,
      "outputs": []
    },
    {
      "cell_type": "code",
      "execution_count": null,
      "id": "126073ef-d4d8-4089-9f43-f246e5e6cdb1",
      "metadata": {
        "id": "126073ef-d4d8-4089-9f43-f246e5e6cdb1"
      },
      "outputs": [],
      "source": [
        "import shap\n",
        "\n",
        "# create an explainer object using the trained XGBoost model\n",
        "explainer = shap.Explainer(model)\n",
        "shap_values = explainer(X_test_encoded)"
      ]
    },
    {
      "cell_type": "code",
      "execution_count": null,
      "id": "facf2c5b-f266-4297-9aae-96867b5a5d75",
      "metadata": {
        "id": "facf2c5b-f266-4297-9aae-96867b5a5d75"
      },
      "outputs": [],
      "source": [
        "shap_df = pd.DataFrame(shap_values.values, columns=X_test_encoded.columns)\n",
        "absolute_mean_shap = shap_df.abs().mean() # the mean absolute SHAP value for each feature\n",
        "absolute_mean_shap_df = pd.DataFrame(absolute_mean_shap, columns=['absolute_mean_shap']).reset_index()\n",
        "absolute_mean_shap_df.columns = ['feature', 'absolute_mean_shap']"
      ]
    },
    {
      "cell_type": "code",
      "execution_count": null,
      "id": "7f716062-913e-4094-8fa5-810f563a4bd8",
      "metadata": {
        "id": "7f716062-913e-4094-8fa5-810f563a4bd8"
      },
      "outputs": [],
      "source": [
        "shap.summary_plot(shap_values, X_test_encoded, plot_type='bar')"
      ]
    },
    {
      "cell_type": "code",
      "execution_count": null,
      "id": "2a9d99c1-b145-4dde-8230-60756e1cf868",
      "metadata": {
        "id": "2a9d99c1-b145-4dde-8230-60756e1cf868"
      },
      "outputs": [],
      "source": [
        "shap.summary_plot(shap_values, X_test_encoded, plot_type='dot')"
      ]
    }
  ],
  "metadata": {
    "kernelspec": {
      "display_name": "uti",
      "language": "python",
      "name": "uti"
    },
    "language_info": {
      "codemirror_mode": {
        "name": "ipython",
        "version": 3
      },
      "file_extension": ".py",
      "mimetype": "text/x-python",
      "name": "python",
      "nbconvert_exporter": "python",
      "pygments_lexer": "ipython3",
      "version": "3.12.3"
    },
    "colab": {
      "provenance": []
    }
  },
  "nbformat": 4,
  "nbformat_minor": 5
}